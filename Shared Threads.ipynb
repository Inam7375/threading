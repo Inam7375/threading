{
 "cells": [
  {
   "cell_type": "code",
   "execution_count": 2,
   "metadata": {},
   "outputs": [],
   "source": [
    "from queue import Queue\n",
    "from threading import Thread\n",
    "import time\n",
    "\n",
    "# A Thread That Produces Data\n",
    "def producer(out_q, thread, data):\n",
    "    while True:\n",
    "        print(f'Before insertion {thread}')\n",
    "        out_q.put(data)\n",
    "        time.sleep(1)\n",
    "        print(f'After Insertion {thread}')\n",
    "        break"
   ]
  },
  {
   "cell_type": "code",
   "execution_count": 3,
   "metadata": {},
   "outputs": [
    {
     "name": "stdout",
     "output_type": "stream",
     "text": [
      "Before insertion thread 1\n",
      "Before insertion thread 2\n",
      "Before insertion thread 3\n",
      "After Insertion thread 1\n",
      "After Insertion thread 2\n",
      "After Insertion thread 3\n"
     ]
    }
   ],
   "source": [
    "q = Queue()\n",
    "t1 = Thread(target = producer, args =(q, 'thread 1', 'Thread 1 ABC'))\n",
    "t2 = Thread(target = producer, args =(q, 'thread 2', 'Thread 2 ABC'))\n",
    "t3 = Thread(target = producer, args =(q, 'thread 3', 'Thread 3 ABC'))\n",
    "t1.start()\n",
    "t2.start()\n",
    "t3.start()\n",
    "  \n",
    "# Wait for all produced items to be consumed\n",
    "# q.join()"
   ]
  },
  {
   "cell_type": "code",
   "execution_count": 4,
   "metadata": {},
   "outputs": [
    {
     "name": "stdout",
     "output_type": "stream",
     "text": [
      "deque(['Thread 1 ABC', 'Thread 2 ABC', 'Thread 3 ABC'])\n"
     ]
    }
   ],
   "source": [
    "print(q.queue)"
   ]
  },
  {
   "cell_type": "code",
   "execution_count": 5,
   "metadata": {},
   "outputs": [],
   "source": [
    "data = []\n",
    "for i in q.queue:\n",
    "    data.append(i)"
   ]
  },
  {
   "cell_type": "code",
   "execution_count": 6,
   "metadata": {},
   "outputs": [
    {
     "data": {
      "text/plain": [
       "['Thread 1 ABC', 'Thread 2 ABC', 'Thread 3 ABC']"
      ]
     },
     "execution_count": 6,
     "metadata": {},
     "output_type": "execute_result"
    }
   ],
   "source": [
    "data"
   ]
  }
 ],
 "metadata": {
  "kernelspec": {
   "display_name": "Python 3",
   "language": "python",
   "name": "python3"
  },
  "language_info": {
   "codemirror_mode": {
    "name": "ipython",
    "version": 3
   },
   "file_extension": ".py",
   "mimetype": "text/x-python",
   "name": "python",
   "nbconvert_exporter": "python",
   "pygments_lexer": "ipython3",
   "version": "3.7.3"
  }
 },
 "nbformat": 4,
 "nbformat_minor": 2
}

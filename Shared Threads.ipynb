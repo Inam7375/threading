{
 "cells": [
  {
   "cell_type": "code",
   "execution_count": 26,
   "metadata": {},
   "outputs": [],
   "source": [
    "from queue import Queue\n",
    "from threading import Thread\n",
    "import time\n",
    "\n",
    "# A Thread That Produces Data\n",
    "def producer(out_q, thread, data):\n",
    "    while True:\n",
    "        print(f'Before insertion {thread}')\n",
    "        out_q.put(data)\n",
    "        time.sleep(1)\n",
    "        print(f'After Insertion {thread}')\n",
    "        break\n",
    "        \n",
    "# A thread that consumes data\n",
    "def consumer(in_q, thread, out_q):\n",
    "    \"\"\"\n",
    "        Check if it is thread 3\n",
    "    \"\"\"\n",
    "    if not '3' in thread:\n",
    "        for i in in_q.queue:\n",
    "            print(f'Before consumption in {thread}')\n",
    "            # Get some data\n",
    "            out_q.put(i)\n",
    "    \"\"\"\n",
    "        Else simply print the values in queue\n",
    "    \"\"\"\n",
    "    if '3' in thread:\n",
    "        for i in in_q.queue:\n",
    "            print(f\"Printing in thread 3 and queue 2 \\nThe value is {i}\")\n",
    "        \n",
    "    print(f'After consumption in {thread}')\n",
    "\n"
   ]
  },
  {
   "cell_type": "code",
   "execution_count": 28,
   "metadata": {},
   "outputs": [
    {
     "name": "stdout",
     "output_type": "stream",
     "text": [
      "Before insertion thread 1\n",
      "Before consumption in thread 2\n",
      "After consumption in thread 2\n",
      "Printing in thread 3 and queue 2 \n",
      "The value is Thread 1 ABC\n",
      "After consumption in thread 3\n",
      "After Insertion thread 1\n"
     ]
    }
   ],
   "source": [
    "q1 = Queue()\n",
    "q2 = Queue()\n",
    "t1 = Thread(target = producer, args =(q1, 'thread 1', 'Thread 1 ABC', ))\n",
    "t2 = Thread(target = consumer, args =(q1, 'thread 2', q2, ))\n",
    "t3 = Thread(target = consumer, args =(q2, 'thread 3', \" \", ))\n",
    "\n",
    "t1.start()\n",
    "t2.start()\n",
    "t3.start()\n",
    "  "
   ]
  }
 ],
 "metadata": {
  "kernelspec": {
   "display_name": "Python 3",
   "language": "python",
   "name": "python3"
  },
  "language_info": {
   "codemirror_mode": {
    "name": "ipython",
    "version": 3
   },
   "file_extension": ".py",
   "mimetype": "text/x-python",
   "name": "python",
   "nbconvert_exporter": "python",
   "pygments_lexer": "ipython3",
   "version": "3.7.3"
  }
 },
 "nbformat": 4,
 "nbformat_minor": 2
}
